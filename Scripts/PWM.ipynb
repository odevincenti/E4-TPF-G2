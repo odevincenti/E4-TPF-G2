{
 "cells": [
  {
   "attachments": {},
   "cell_type": "markdown",
   "metadata": {},
   "source": [
    "# Conexiones módulo PWM UC3844\n",
    "[Datasheet UC3844](../Datasheets/PWM_UC3844.pdf)"
   ]
  },
  {
   "attachments": {},
   "cell_type": "markdown",
   "metadata": {},
   "source": [
    "## Frecuencia\n",
    "Cálculo de $C_T$ y $R_T$ para fijar $f_{sw}$\n",
    "\n",
    "$$f_{sw} = \\frac{1.72}{C_T \\cdot R_T}$$\n",
    "\n",
    "Queremos $f_{sw} = 150 kHz$"
   ]
  },
  {
   "cell_type": "code",
   "execution_count": 16,
   "metadata": {},
   "outputs": [
    {
     "name": "stdout",
     "output_type": "stream",
     "text": [
      "Se encontraron 0 opciones\n",
      "Buscando con resistencias en paralelo\n",
      "\n",
      "Se encontraron 7 opciones\n",
      "CT = 1.5nF con RT1 = 8.2kOhm y RT2 = 100kOhm => RT = 7.58kOhm, resultando en fsw = 151.3kHz\n",
      "Rango: RT1 = 5.6KOhm -> fsw = 216.23kHz | RT1 = 10.6kOhm -> fsw = 119.64kHz\n",
      "\n",
      "CT = 1.5nF con RT1 = 8.2kOhm y RT2 = 120kOhm => RT = 7.68kOhm, resultando en fsw = 149.39kHz\n",
      "Rango: RT1 = 5.6KOhm -> fsw = 214.32kHz | RT1 = 10.6kOhm -> fsw = 117.73kHz\n",
      "\n",
      "CT = 1.5nF con RT1 = 10kOhm y RT2 = 33kOhm => RT = 7.67kOhm, resultando en fsw = 149.41kHz\n",
      "Rango: RT1 = 5.6KOhm -> fsw = 239.51kHz | RT1 = 10.6kOhm -> fsw = 142.92kHz\n",
      "\n",
      "CT = 2nF con RT1 = 6.8kOhm y RT2 = 39kOhm => RT = 5.79kOhm, resultando en fsw = 148.52kHz\n",
      "Rango: RT1 = 5.6KOhm -> fsw = 175.62kHz | RT1 = 10.6kOhm -> fsw = 103.18kHz\n",
      "\n",
      "CT = 2.2nF con RT1 = 5.6kOhm y RT2 = 68kOhm => RT = 5.17kOhm, resultando en fsw = 151.11kHz\n",
      "Rango: RT1 = 5.6KOhm -> fsw = 151.11kHz | RT1 = 10.6kOhm -> fsw = 85.254kHz\n",
      "\n",
      "CT = 2.2nF con RT1 = 5.6kOhm y RT2 = 82kOhm => RT = 5.24kOhm, resultando en fsw = 149.14kHz\n",
      "Rango: RT1 = 5.6KOhm -> fsw = 149.14kHz | RT1 = 10.6kOhm -> fsw = 83.291kHz\n",
      "\n",
      "CT = 2.2nF con RT1 = 6.8kOhm y RT2 = 22kOhm => RT = 5.19kOhm, resultando en fsw = 150.51kHz\n",
      "Rango: RT1 = 5.6KOhm -> fsw = 175.15kHz | RT1 = 10.6kOhm -> fsw = 109.29kHz\n",
      "\n"
     ]
    }
   ],
   "source": [
    "from utils import C_values, R_values, to_unit, parallel\n",
    "\n",
    "fsw = 150E3\n",
    "Rd = 0\n",
    "\n",
    "tol = 0.01\n",
    "CT = []\n",
    "RT = []\n",
    "\n",
    "for Ct in C_values:\n",
    "    if 1E-9 < Ct < 100E-9:\n",
    "        for Rt in R_values:\n",
    "            if 5E3 < Rt < 100E3: \n",
    "                f = 1.72/(Ct*Rt)\n",
    "                if fsw*(1-tol) < f < fsw*(1+tol):\n",
    "                    CT.append(Ct)\n",
    "                    RT.append(Rt)\n",
    "        \n",
    "print(f'Se encontraron {len(CT)} opciones')\n",
    "for i in range(len(CT)):\n",
    "    print('CT = ' + to_unit(CT[i]) + 'F con RT = ' + to_unit(RT[i]) + 'Ohm, resultando en fsw = ' + to_unit(1.72/(CT[i]*RT[i]), 5) + 'Hz')\n",
    "\n",
    "if len(CT) == 0:\n",
    "    print('Buscando con resistencias en paralelo\\n')\n",
    "\n",
    "    Rpar = []\n",
    "    for Ct in C_values:\n",
    "        if 1E-9 < Ct < 200E-9:\n",
    "            i = 0\n",
    "            j = 0\n",
    "            for i in range(len(R_values)):\n",
    "                for j in range(i, len(R_values)):\n",
    "                    Rt = parallel(R_values[i], R_values[j])\n",
    "                    if 5E3 < Rt < 100E3: \n",
    "                        f = 1.72/(Ct*Rt)\n",
    "                        if fsw*(1-tol) < f < fsw*(1+tol):\n",
    "                            CT.append(Ct)\n",
    "                            RT.append((R_values[i], R_values[j]))\n",
    "\n",
    "    print(f'Se encontraron {len(CT)} opciones')\n",
    "    for i in range(len(CT)):\n",
    "        print('CT = ' + to_unit(CT[i]) + 'F con RT1 = ' + to_unit(RT[i][0]) + 'Ohm y RT2 = ' + to_unit(RT[i][1]) + 'Ohm => RT = ' + to_unit(parallel(RT[i][0], RT[i][1])) + 'Ohm, resultando en fsw = ' + to_unit(1.72/(CT[i]*parallel(RT[i][0], RT[i][1])), 5) + 'Hz')\n",
    "        print('Rango: RT1 = 5.6KOhm -> ' + 'fsw = ' + to_unit(1.72/(CT[i]*parallel(5600, RT[i][1])), 5) + 'Hz | RT1 = 10.6kOhm -> ' + 'fsw = ' + to_unit(1.72/(CT[i]*parallel(10.6E3, RT[i][1])), 5) + 'Hz\\n')"
   ]
  },
  {
   "attachments": {},
   "cell_type": "markdown",
   "metadata": {},
   "source": [
    "Podemos elegir cualquiera entre:\n",
    "\n",
    "CT = 1.5nF con RT1 = 8.2kOhm y RT2 = 100kOhm => RT = 7.58kOhm, resultando en fsw = 151.3kHz\n",
    "\n",
    "\tRango: RT1 = 5.6KOhm -> fsw = 216.23kHz | RT1 = 10.6kOhm -> fsw = 119.64kHz\n",
    "\n",
    "CT = 1.5nF con RT1 = 8.2kOhm y RT2 = 120kOhm => RT = 7.68kOhm, resultando en fsw = 149.39kHz\n",
    "\n",
    "\tRango: RT1 = 5.6KOhm -> fsw = 214.32kHz | RT1 = 10.6kOhm -> fsw = 117.73kHz\n",
    "\n",
    "CT = 2nF con RT1 = 6.8kOhm y RT2 = 39kOhm => RT = 5.79kOhm, resultando en fsw = 148.52kHz\n",
    "\n",
    "\tRango: RT1 = 5.6KOhm -> fsw = 175.62kHz | RT1 = 10.6kOhm -> fsw = 103.18kHz\n",
    "\n",
    "CT = 2.2nF con RT1 = 6.8kOhm y RT2 = 22kOhm => RT = 5.19kOhm, resultando en fsw = 150.51kHz\n",
    "\n",
    "\tRango: RT1 = 5.6KOhm -> fsw = 175.15kHz | RT1 = 10.6kOhm -> fsw = 109.29kHz"
   ]
  },
  {
   "attachments": {},
   "cell_type": "markdown",
   "metadata": {},
   "source": [
    "Al final pusimos $C_T = $ y $R_T = $ + 1 PRESET de $5k \\Omega$ ajustable\n",
    "\n",
    "$\\Rightarrow f_{sw} = 150kHz$"
   ]
  },
  {
   "attachments": {},
   "cell_type": "markdown",
   "metadata": {},
   "source": [
    "## Divisor de tensión medida\n",
    "$\\overline{V_o} = 16V$\n",
    "\n",
    "$V_{comp} = 2.55V$\n",
    "\n",
    "$V_{ref} = 5.1V$\n",
    "\n",
    "$V_{o_{comp}} = \\frac{R_a}{R_a + R_b} \\cdot \\overline{V_o} \\approx V_{comp}$"
   ]
  },
  {
   "cell_type": "code",
   "execution_count": 1,
   "metadata": {},
   "outputs": [
    {
     "name": "stdout",
     "output_type": "stream",
     "text": [
      "Se encontraron 6 opciones\n",
      "Ra = 150Ohm con Rb = 180Ohm, resultando en Vo_comp = 2.3182V\n",
      "Ra = 1kOhm con Rb = 1.2kOhm, resultando en Vo_comp = 2.3182V\n",
      "Ra = 1.5kOhm con Rb = 1.8kOhm, resultando en Vo_comp = 2.3182V\n",
      "Ra = 10kOhm con Rb = 12kOhm, resultando en Vo_comp = 2.3182V\n",
      "Ra = 15kOhm con Rb = 18kOhm, resultando en Vo_comp = 2.3182V\n",
      "Ra = 100kOhm con Rb = 120kOhm, resultando en Vo_comp = 2.3182V\n"
     ]
    }
   ],
   "source": [
    "from utils import R_values, to_unit\n",
    "\n",
    "Vcomp = 2.3212\n",
    "Vo = 5.1\n",
    "\n",
    "tol = 0.002\n",
    "Ra = []\n",
    "Rb = []\n",
    "\n",
    "for ra in R_values:\n",
    "\tif 100 < ra < 150E3: \n",
    "\t\tfor rb in R_values:\n",
    "\t\t\tif 100 < rb < 150E3: \n",
    "\t\t\t\tVo_comp = Vo*ra/(ra + rb)\n",
    "\t\t\t\tif Vcomp*(1-tol) < Vo_comp < Vcomp*(1+tol):\n",
    "\t\t\t\t\tRa.append(ra)\n",
    "\t\t\t\t\tRb.append(rb)\n",
    "        \n",
    "print(f'Se encontraron {len(Ra)} opciones')\n",
    "for i in range(len(Ra)):\n",
    "    print('Ra = ' + to_unit(Ra[i]) + 'Ohm con Rb = ' + to_unit(Rb[i]) + 'Ohm, resultando en Vo_comp = ' + to_unit(Vo*Ra[i]/(Ra[i] + Rb[i]), 5) + 'V')"
   ]
  },
  {
   "attachments": {},
   "cell_type": "markdown",
   "metadata": {},
   "source": [
    "Tomamos $R_a = 5.6k\\Omega$ y $R_b = 33k\\Omega$\n",
    "\n",
    "$\\Rightarrow V_{o_{comp}} = 2.3212$\n",
    "\n",
    "Tomamos $R_a = 10k\\Omega$ y $R_b = 12k\\Omega$\n",
    "\n",
    "$\\Rightarrow V_{{ref}_{comp}} = 2.3182V$"
   ]
  },
  {
   "attachments": {},
   "cell_type": "markdown",
   "metadata": {},
   "source": [
    "## Compensación por realimentación\n",
    "\n",
    "Como no tenemos la transferencia todavía no la hicimos"
   ]
  }
 ],
 "metadata": {
  "kernelspec": {
   "display_name": "venv",
   "language": "python",
   "name": "python3"
  },
  "language_info": {
   "codemirror_mode": {
    "name": "ipython",
    "version": 3
   },
   "file_extension": ".py",
   "mimetype": "text/x-python",
   "name": "python",
   "nbconvert_exporter": "python",
   "pygments_lexer": "ipython3",
   "version": "3.10.7"
  },
  "orig_nbformat": 4
 },
 "nbformat": 4,
 "nbformat_minor": 2
}
