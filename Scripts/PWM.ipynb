{
 "cells": [
  {
   "attachments": {},
   "cell_type": "markdown",
   "metadata": {},
   "source": [
    "# Conexiones módulo PWM UC3844\n",
    "[Datasheet UC3844](../Datasheets/PWM_UC3844.pdf)"
   ]
  },
  {
   "attachments": {},
   "cell_type": "markdown",
   "metadata": {},
   "source": [
    "## Frecuencia\n",
    "Cálculo de $C_T$ y $R_T$ para fijar $f_{sw}$\n",
    "\n",
    "$$f_{sw} = \\frac{1.72}{C_T \\cdot R_T}$$\n",
    "\n",
    "Queremos $f_{sw} = 150 kHz$"
   ]
  },
  {
   "cell_type": "code",
   "execution_count": 6,
   "metadata": {},
   "outputs": [
    {
     "name": "stdout",
     "output_type": "stream",
     "text": [
      "Se encontraron 4 opciones\n",
      "CT = 1.5nF con RT = 8.2kOhm, resultando en fsw = 139.84kHz\n",
      "CT = 2nF con RT = 5.6kOhm, resultando en fsw = 153.57kHz\n",
      "CT = 2.2nF con RT = 5.1kOhm, resultando en fsw = 153.3kHz\n",
      "CT = 2.2nF con RT = 5.6kOhm, resultando en fsw = 139.61kHz\n"
     ]
    }
   ],
   "source": [
    "from utils import C_values, R_values, to_unit, parallel\n",
    "\n",
    "fsw = 150E3\n",
    "Rd = 0\n",
    "\n",
    "tol = 0.1\n",
    "CT = []\n",
    "RT = []\n",
    "\n",
    "for Ct in C_values:\n",
    "    if 1E-9 < Ct < 100E-9:\n",
    "        for Rt in R_values:\n",
    "            if 5E3 < Rt < 100E3: \n",
    "                f = 1.72/(Ct*Rt)\n",
    "                if fsw*(1-tol) < f < fsw*(1+tol):\n",
    "                    CT.append(Ct)\n",
    "                    RT.append(Rt)\n",
    "        \n",
    "print(f'Se encontraron {len(CT)} opciones')\n",
    "for i in range(len(CT)):\n",
    "    print('CT = ' + to_unit(CT[i]) + 'F con RT = ' + to_unit(RT[i]) + 'Ohm, resultando en fsw = ' + to_unit(1.72/(CT[i]*RT[i]), 5) + 'Hz')\n",
    "\n",
    "if len(CT) == 0:\n",
    "    print('Buscando con resistencias en paralelo\\n')\n",
    "\n",
    "    Rpar = []\n",
    "    for Ct in C_values:\n",
    "        if 1E-9 < Ct < 200E-9:\n",
    "            i = 0\n",
    "            j = 0\n",
    "            for i in range(len(R_values)):\n",
    "                for j in range(i, len(R_values)):\n",
    "                    Rt = parallel(R_values[i], R_values[j])\n",
    "                    if 5E3 < Rt < 100E3: \n",
    "                        f = 1.72/(Ct*Rt)\n",
    "                        if fsw*(1-tol) < f < fsw*(1+tol):\n",
    "                            CT.append(Ct)\n",
    "                            RT.append((R_values[i], R_values[j]))\n",
    "\n",
    "    print(f'Se encontraron {len(CT)} opciones')\n",
    "    for i in range(len(CT)):\n",
    "        print('CT = ' + to_unit(CT[i]) + 'F con RT1 = ' + to_unit(RT[i][0]) + 'Ohm y RT2 = ' + to_unit(RT[i][1]) + 'Ohm => RT = ' + to_unit(parallel(RT[i][0], RT[i][1])) + 'Ohm, resultando en fsw = ' + to_unit(1.72/(CT[i]*parallel(RT[i][0], RT[i][1])), 5) + 'Hz')\n",
    "        print('Rango: RT1 = 5.6KOhm -> ' + 'fsw = ' + to_unit(1.72/(CT[i]*parallel(5600, RT[i][1])), 5) + 'Hz | RT1 = 10.6kOhm -> ' + 'fsw = ' + to_unit(1.72/(CT[i]*parallel(10.6E3, RT[i][1])), 5) + 'Hz\\n')"
   ]
  },
  {
   "attachments": {},
   "cell_type": "markdown",
   "metadata": {},
   "source": [
    "Podemos elegir cualquiera entre:\n",
    "\n",
    "CT = 1.5nF con RT1 = 8.2kOhm y RT2 = 100kOhm => RT = 7.58kOhm, resultando en fsw = 151.3kHz\n",
    "\n",
    "\tRango: RT1 = 5.6KOhm -> fsw = 216.23kHz | RT1 = 10.6kOhm -> fsw = 119.64kHz\n",
    "\n",
    "CT = 1.5nF con RT1 = 8.2kOhm y RT2 = 120kOhm => RT = 7.68kOhm, resultando en fsw = 149.39kHz\n",
    "\n",
    "\tRango: RT1 = 5.6KOhm -> fsw = 214.32kHz | RT1 = 10.6kOhm -> fsw = 117.73kHz\n",
    "\n",
    "CT = 2nF con RT1 = 6.8kOhm y RT2 = 39kOhm => RT = 5.79kOhm, resultando en fsw = 148.52kHz\n",
    "\n",
    "\tRango: RT1 = 5.6KOhm -> fsw = 175.62kHz | RT1 = 10.6kOhm -> fsw = 103.18kHz\n",
    "\n",
    "CT = 2.2nF con RT1 = 6.8kOhm y RT2 = 22kOhm => RT = 5.19kOhm, resultando en fsw = 150.51kHz\n",
    "\n",
    "\tRango: RT1 = 5.6KOhm -> fsw = 175.15kHz | RT1 = 10.6kOhm -> fsw = 109.29kHz"
   ]
  },
  {
   "attachments": {},
   "cell_type": "markdown",
   "metadata": {},
   "source": [
    "Al final pusimos $C_T = 1.5nF $ y $R_T = 5.6KOhm $ + 1 PRESET de $5k \\Omega$ ajustable\n",
    "\n",
    "$\\Rightarrow f_{sw} = 150kHz$"
   ]
  },
  {
   "attachments": {},
   "cell_type": "markdown",
   "metadata": {},
   "source": [
    "## Divisor de tensión medida\n",
    "$\\overline{V_o} = 112.5V$\n",
    "\n",
    "$V_{comp} = 2.5V$\n",
    "\n",
    "$V_{o_{comp}} = \\frac{R_a}{R_a + R_b} \\cdot \\overline{V_o} \\approx V_{comp}$"
   ]
  },
  {
   "cell_type": "code",
   "execution_count": 40,
   "metadata": {},
   "outputs": [
    {
     "name": "stdout",
     "output_type": "stream",
     "text": [
      "Se encontraron 2 opciones\n",
      "Ra = 1.86kOhm con Rb = 82kOhm, resultando en Vo_comp = 2.4952V\n",
      "Rango:\tRa = 1.8kOhm -> Vo_comp = 2.4165V\n",
      "\tRa = 1.9kOhm -> Vo_comp = 2.5608V\n",
      "Ra = 1.86kOhm con Rb = 82kOhm, resultando en Vo_comp = 2.4952V\n",
      "Rango:\tRa = 1.8kOhm -> Vo_comp = 2.4165V\n",
      "\tRa = 1.9kOhm -> Vo_comp = 2.5608V\n",
      "Queremos: 2.43V < Vo_comp < 2.56V\n"
     ]
    }
   ],
   "source": [
    "from utils import R_values, to_unit\n",
    "\n",
    "Vcomp = 2.5\n",
    "Vo = 112.5\n",
    "\n",
    "tol = 0.01\n",
    "Ra = []\n",
    "Rb = []\n",
    "\n",
    "for ra in R_values:\n",
    "\tif 100 < ra < 150E3: \n",
    "\t\tfor rb in R_values:\n",
    "\t\t\tif 100 < rb < 150E3: \n",
    "\t\t\t\tVo_comp = Vo*ra/(ra + rb)\n",
    "\t\t\t\tif Vcomp*(1-tol) < Vo_comp < Vcomp*(1+tol):\n",
    "\t\t\t\t\tRa.append(ra)\n",
    "\t\t\t\t\tRb.append(rb)\n",
    "        \n",
    "print(f'Se encontraron {len(Ra)} opciones')\n",
    "for i in range(len(Ra)):\n",
    "    Ra[i] = 1860\n",
    "    Rb[i] = 82000\n",
    "    print('Ra = ' + to_unit(Ra[i]) + 'Ohm con Rb = ' + to_unit(Rb[i]) + 'Ohm, resultando en Vo_comp = ' + to_unit(Vo*Ra[i]/(Ra[i] + Rb[i]), 5) + 'V')\n",
    "    print('Rango:\\tRa = 1.8kOhm -> Vo_comp = ' + to_unit(Vo*1800/(1800 + Rb[i]), 5) + 'V')\n",
    "    print('\\tRa = 1.9kOhm -> Vo_comp = ' + to_unit(Vo*1910/(1910 + Rb[i]), 5) + 'V')\n",
    "    \n",
    "print('Queremos: 2.43V < Vo_comp < 2.56V')"
   ]
  },
  {
   "attachments": {},
   "cell_type": "markdown",
   "metadata": {},
   "source": [
    "Tomamos $R_a = 1.8k\\Omega$ + Pote $100\\Omega$ y $R_b = 82k\\Omega$\n",
    "\n",
    "Rango:\t\n",
    "\t\n",
    "$R_a = 1.8k\\Omega \\rightarrow V_{o_{comp}} = 2.4165V$\n",
    "\t\n",
    "$R_a = 1.91k\\Omega \\rightarrow V_{o_{comp}} = 2.5608V$"
   ]
  },
  {
   "attachments": {},
   "cell_type": "markdown",
   "metadata": {},
   "source": [
    "## Compensación de rampa\n",
    "\n",
    "Inciso 9.2.2.10.2 de la datasheet (Páginas 28 y 29)"
   ]
  },
  {
   "cell_type": "code",
   "execution_count": 16,
   "metadata": {},
   "outputs": [
    {
     "name": "stdout",
     "output_type": "stream",
     "text": [
      "Mideal = 2.046\n",
      "Sn = 0.004251 V/us\n",
      "Se = 4.445 mV/us\n",
      "Sosc = 425 mV/us\n",
      "Rramp = 94.6kOhm\n"
     ]
    }
   ],
   "source": [
    "import numpy as np\n",
    "from utils import to_unit\n",
    "\n",
    "# Datos\n",
    "fsw = 150E3\n",
    "D = 0.6\n",
    "Vdmin = 25\n",
    "Rcs = 0.1\n",
    "L1 = 588.11E-6\n",
    "Vosc = 1.7\n",
    "\n",
    "Mideal = (1/np.pi + 0.5)/(1 - D)\n",
    "print(f'Mideal = {Mideal:.4g}')\n",
    "\n",
    "# Pendiente de In1\n",
    "Sn = Vdmin*Rcs/L1\n",
    "Snp = Sn*1E-6\n",
    "print(f'Sn = {Snp:.4g} V/us')\n",
    "\n",
    "# Pendiente de compensación\n",
    "Se = (Mideal - 1)*Sn\n",
    "Sep = Se*1E-3\n",
    "print(f'Se = {Sep:.4g} mV/us')\n",
    "\n",
    "# Pendiente del oscilador\n",
    "ton = D/fsw\n",
    "Sosc = Vosc/ton\n",
    "Soscp = Sosc * 1E-3\n",
    "print(f'Sosc = {Soscp:.4g} mV/us')\n",
    "\n",
    "# Resistencia de rampa\n",
    "Rcsf = 1E3\n",
    "Cramp = 10E-9\n",
    "Rramp = Rcsf * (Sosc/Se - 1)\n",
    "print(f'Rramp = ' + to_unit(Rramp) + 'Ohm')\n",
    "\n"
   ]
  },
  {
   "attachments": {},
   "cell_type": "markdown",
   "metadata": {},
   "source": [
    "Tomamos $R_{ramp}  =100k\\Omega$ y $C_{ramp} = 10nF$ por ahora"
   ]
  },
  {
   "attachments": {},
   "cell_type": "markdown",
   "metadata": {},
   "source": [
    "## Compensación por realimentación\n",
    "\n",
    "Como no tenemos la transferencia todavía no la hicimos"
   ]
  }
 ],
 "metadata": {
  "kernelspec": {
   "display_name": "venv",
   "language": "python",
   "name": "python3"
  },
  "language_info": {
   "codemirror_mode": {
    "name": "ipython",
    "version": 3
   },
   "file_extension": ".py",
   "mimetype": "text/x-python",
   "name": "python",
   "nbconvert_exporter": "python",
   "pygments_lexer": "ipython3",
   "version": "3.10.7"
  },
  "orig_nbformat": 4
 },
 "nbformat": 4,
 "nbformat_minor": 2
}
